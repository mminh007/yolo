{
 "cells": [
  {
   "cell_type": "code",
   "execution_count": 2,
   "metadata": {},
   "outputs": [],
   "source": [
    "from utils.v3 import yolov3\n",
    "import torch\n",
    "import numpy as np\n",
    "from torchsummary import summary\n",
    "import yaml\n",
    "import os"
   ]
  },
  {
   "cell_type": "code",
   "execution_count": 50,
   "metadata": {},
   "outputs": [
    {
     "data": {
      "text/plain": [
       "{'names': ['car'],\n",
       " 'nc': 1,\n",
       " 'path': './yodata',\n",
       " 'test': 'test',\n",
       " 'train': 'train',\n",
       " 'val': 'val'}"
      ]
     },
     "execution_count": 50,
     "metadata": {},
     "output_type": "execute_result"
    }
   ],
   "source": [
    "path = \"./yodata/data.yml\"\n",
    "with open(path, \"r\") as f:\n",
    "    data = yaml.load(f, Loader=yaml.SafeLoader)\n",
    "\n",
    "data"
   ]
  },
  {
   "cell_type": "code",
   "execution_count": 55,
   "metadata": {},
   "outputs": [
    {
     "data": {
      "text/plain": [
       "'./yodata/train'"
      ]
     },
     "execution_count": 55,
     "metadata": {},
     "output_type": "execute_result"
    }
   ],
   "source": [
    "data[\"path\"] + \"/\" + data[\"train\"]"
   ]
  },
  {
   "cell_type": "code",
   "execution_count": 39,
   "metadata": {},
   "outputs": [
    {
     "data": {
      "text/plain": [
       "[['0',\n",
       "  '0.9337916063609467',\n",
       "  '0.564913127368421',\n",
       "  '0.13241678727810652',\n",
       "  '0.17631917631578944'],\n",
       " ['0',\n",
       "  '0.562590448668639',\n",
       "  '0.6324806949999999',\n",
       "  '0.38422575976331363',\n",
       "  '0.2265122263157895']]"
      ]
     },
     "execution_count": 39,
     "metadata": {},
     "output_type": "execute_result"
    }
   ],
   "source": [
    "boxes = []\n",
    "with open(os.path.join(path, \"vid_4_700\" + \".txt\"), \"r\") as f:\n",
    "    for line in f:\n",
    "        boxes.append(line.split(\"\\n\")[0].split(\" \"))\n",
    "boxes"
   ]
  },
  {
   "cell_type": "code",
   "execution_count": 41,
   "metadata": {},
   "outputs": [],
   "source": [
    "bboxes = np.roll(np.loadtxt(fname=os.path.join(path, \"vid_4_700\"+\".txt\"), delimiter=\" \"), shift=4, axis=0).tolist()"
   ]
  },
  {
   "cell_type": "code",
   "execution_count": 42,
   "metadata": {},
   "outputs": [
    {
     "data": {
      "text/plain": [
       "[[0.0,\n",
       "  0.9337916063609467,\n",
       "  0.564913127368421,\n",
       "  0.13241678727810652,\n",
       "  0.17631917631578944],\n",
       " [0.0,\n",
       "  0.562590448668639,\n",
       "  0.6324806949999999,\n",
       "  0.38422575976331363,\n",
       "  0.2265122263157895]]"
      ]
     },
     "execution_count": 42,
     "metadata": {},
     "output_type": "execute_result"
    }
   ],
   "source": [
    "bboxes"
   ]
  },
  {
   "cell_type": "code",
   "execution_count": 8,
   "metadata": {},
   "outputs": [],
   "source": [
    "image = torch.randint(0, 255, (2,3,13,13,85)).float()"
   ]
  },
  {
   "cell_type": "code",
   "execution_count": null,
   "metadata": {},
   "outputs": [],
   "source": []
  },
  {
   "cell_type": "code",
   "execution_count": 13,
   "metadata": {},
   "outputs": [
    {
     "name": "stdout",
     "output_type": "stream",
     "text": [
      "torch.Size([169, 1])\n"
     ]
    }
   ],
   "source": [
    "grid_len = np.arange(13)\n",
    "a,b = np.meshgrid(grid_len,grid_len)\n",
    "\n",
    "x_offset = torch.FloatTensor(a).view(-1,1)\n",
    "y_offset = torch.FloatTensor(b).view(-1,1)\n",
    "\n",
    "x_y_offset = torch.cat((x_offset, y_offset), 1).repeat(1,9).view(-1,2).unsqueeze(0)\n",
    "\n",
    "print(x_offset.shape)\n"
   ]
  },
  {
   "cell_type": "code",
   "execution_count": 11,
   "metadata": {},
   "outputs": [
    {
     "data": {
      "text/plain": [
       "torch.Size([1, 1521, 2])"
      ]
     },
     "execution_count": 11,
     "metadata": {},
     "output_type": "execute_result"
    }
   ],
   "source": [
    "x_y_offset.shape"
   ]
  },
  {
   "cell_type": "code",
   "execution_count": 36,
   "metadata": {},
   "outputs": [
    {
     "name": "stdout",
     "output_type": "stream",
     "text": [
      "3\n"
     ]
    },
    {
     "data": {
      "text/plain": [
       "torch.Size([3, 3, 2])"
      ]
     },
     "execution_count": 36,
     "metadata": {},
     "output_type": "execute_result"
    }
   ],
   "source": [
    "ANCHORS = [ \n",
    "    [(0.28, 0.22), (0.38, 0.48), (0.9, 0.78)], \n",
    "    [(0.07, 0.15), (0.15, 0.11), (0.14, 0.29)], \n",
    "    [(0.02, 0.03), (0.04, 0.07), (0.08, 0.06)], \n",
    "] \n",
    "anchors = torch.Tensor(ANCHORS[0] + ANCHORS[1] + ANCHORS[2])\n",
    "num_per_scale = anchors.shape[0] // 3\n",
    "print(num_per_scale)\n",
    "torch.tensor(ANCHORS).shape"
   ]
  },
  {
   "cell_type": "code",
   "execution_count": 24,
   "metadata": {},
   "outputs": [
    {
     "data": {
      "text/plain": [
       "tensor([[-1.2919,  1.0112,  0.2272,  1.0376,  1.6589],\n",
       "        [-1.5730,  0.9015,  0.4778,  0.9910, -0.8286]])"
      ]
     },
     "execution_count": 24,
     "metadata": {},
     "output_type": "execute_result"
    }
   ],
   "source": [
    "boxes = torch.ran(2,5)\n",
    "boxes"
   ]
  },
  {
   "cell_type": "code",
   "execution_count": 25,
   "metadata": {},
   "outputs": [],
   "source": [
    "def iou(box1, box2, is_pred=True): \n",
    "    if is_pred: \n",
    "        # IoU score for prediction and label \n",
    "        # box1 (prediction) and box2 (label) are both in [x, y, width, height] format \n",
    "          \n",
    "        # Box coordinates of prediction \n",
    "        b1_x1 = box1[..., 0:1] - box1[..., 2:3] / 2\n",
    "        b1_y1 = box1[..., 1:2] - box1[..., 3:4] / 2\n",
    "        b1_x2 = box1[..., 0:1] + box1[..., 2:3] / 2\n",
    "        b1_y2 = box1[..., 1:2] + box1[..., 3:4] / 2\n",
    "  \n",
    "        # Box coordinates of ground truth \n",
    "        b2_x1 = box2[..., 0:1] - box2[..., 2:3] / 2\n",
    "        b2_y1 = box2[..., 1:2] - box2[..., 3:4] / 2\n",
    "        b2_x2 = box2[..., 0:1] + box2[..., 2:3] / 2\n",
    "        b2_y2 = box2[..., 1:2] + box2[..., 3:4] / 2\n",
    "  \n",
    "        # Get the coordinates of the intersection rectangle \n",
    "        x1 = torch.max(b1_x1, b2_x1) \n",
    "        y1 = torch.max(b1_y1, b2_y1) \n",
    "        x2 = torch.min(b1_x2, b2_x2) \n",
    "        y2 = torch.min(b1_y2, b2_y2) \n",
    "        # Make sure the intersection is at least 0 \n",
    "        intersection = (x2 - x1).clamp(0) * (y2 - y1).clamp(0) \n",
    "  \n",
    "        # Calculate the union area \n",
    "        box1_area = abs((b1_x2 - b1_x1) * (b1_y2 - b1_y1)) \n",
    "        box2_area = abs((b2_x2 - b2_x1) * (b2_y2 - b2_y1)) \n",
    "        union = box1_area + box2_area - intersection \n",
    "  \n",
    "        # Calculate the IoU score \n",
    "        epsilon = 1e-6\n",
    "        iou_score = intersection / (union + epsilon) \n",
    "  \n",
    "        # Return IoU score \n",
    "        return iou_score \n",
    "      \n",
    "    else: \n",
    "        # IoU score based on width and height of bounding boxes \n",
    "          \n",
    "        # Calculate intersection area \n",
    "        intersection_area = torch.min(box1[..., 0], box2[..., 0]) * torch.min(box1[..., 1], box2[..., 1]) \n",
    "  \n",
    "        # Calculate union area \n",
    "        box1_area = box1[..., 0] * box1[..., 1] \n",
    "        box2_area = box2[..., 0] * box2[..., 1] \n",
    "        union_area = box1_area + box2_area - intersection_area \n",
    "  \n",
    "        # Calculate IoU score \n",
    "        iou_score = intersection_area / union_area \n",
    "  \n",
    "        # Return IoU score \n",
    "        return iou_score"
   ]
  },
  {
   "cell_type": "code",
   "execution_count": 28,
   "metadata": {},
   "outputs": [
    {
     "data": {
      "text/plain": [
       "torch.Size([3, 13, 13, 6])"
      ]
     },
     "execution_count": 28,
     "metadata": {},
     "output_type": "execute_result"
    }
   ],
   "source": [
    "grid = [13, 26, 52]\n",
    "\n",
    "target = [torch.zeros((3, s, s, 6)) for s in grid]\n",
    "target[0].shape"
   ]
  },
  {
   "cell_type": "code",
   "execution_count": 44,
   "metadata": {},
   "outputs": [
    {
     "name": "stdout",
     "output_type": "stream",
     "text": [
      "0\n",
      "0\n",
      "0\n",
      "1\n",
      "1\n",
      "1\n",
      "2\n",
      "2\n",
      "2\n"
     ]
    }
   ],
   "source": [
    "anchor = [0,1,2,3,4,5,6,7,8]\n",
    "for i in anchor:\n",
    "    print(i // 3)"
   ]
  },
  {
   "cell_type": "code",
   "execution_count": 43,
   "metadata": {},
   "outputs": [
    {
     "name": "stdout",
     "output_type": "stream",
     "text": [
      "0\n",
      "1\n",
      "2\n",
      "0\n",
      "1\n",
      "2\n",
      "0\n",
      "1\n",
      "2\n"
     ]
    }
   ],
   "source": [
    "anchor = [0,1,2,3,4,5,6,7,8]\n",
    "for i in anchor:\n",
    "    print(i % 3)"
   ]
  },
  {
   "cell_type": "code",
   "execution_count": 31,
   "metadata": {},
   "outputs": [
    {
     "name": "stdout",
     "output_type": "stream",
     "text": [
      "tensor([1, 2, 0, 5, 4, 3, 8, 7, 6])\n",
      "tensor(0)\n",
      "tensor(1)\n",
      "s: 13\n",
      "(13, -16)\n"
     ]
    },
    {
     "ename": "IndexError",
     "evalue": "index 13 is out of bounds for dimension 1 with size 13",
     "output_type": "error",
     "traceback": [
      "\u001b[1;31m---------------------------------------------------------------------------\u001b[0m",
      "\u001b[1;31mIndexError\u001b[0m                                Traceback (most recent call last)",
      "Cell \u001b[1;32mIn[31], line 17\u001b[0m\n\u001b[0;32m     15\u001b[0m i, j \u001b[38;5;241m=\u001b[39m \u001b[38;5;28mint\u001b[39m(s \u001b[38;5;241m*\u001b[39m y), \u001b[38;5;28mint\u001b[39m(s \u001b[38;5;241m*\u001b[39m x) \n\u001b[0;32m     16\u001b[0m \u001b[38;5;28mprint\u001b[39m((i,j))\n\u001b[1;32m---> 17\u001b[0m anchor_taken \u001b[38;5;241m=\u001b[39m \u001b[43mtarget\u001b[49m\u001b[43m[\u001b[49m\u001b[43mscale_idx\u001b[49m\u001b[43m]\u001b[49m\u001b[43m[\u001b[49m\u001b[43manchor_on_scale\u001b[49m\u001b[43m,\u001b[49m\u001b[43m \u001b[49m\u001b[43mi\u001b[49m\u001b[43m,\u001b[49m\u001b[43m \u001b[49m\u001b[43mj\u001b[49m\u001b[43m,\u001b[49m\u001b[43m \u001b[49m\u001b[38;5;241;43m0\u001b[39;49m\u001b[43m]\u001b[49m\n\u001b[0;32m     18\u001b[0m \u001b[38;5;28mprint\u001b[39m(anchor_taken)\n\u001b[0;32m     20\u001b[0m \u001b[38;5;28;01mif\u001b[39;00m \u001b[38;5;129;01mnot\u001b[39;00m anchor_taken \u001b[38;5;129;01mand\u001b[39;00m \u001b[38;5;129;01mnot\u001b[39;00m has_anchor[scale_idx]: \n\u001b[0;32m     21\u001b[0m \n\u001b[0;32m     22\u001b[0m             \u001b[38;5;66;03m# Set the probability to 1 \u001b[39;00m\n",
      "\u001b[1;31mIndexError\u001b[0m: index 13 is out of bounds for dimension 1 with size 13"
     ]
    }
   ],
   "source": [
    "for box in boxes:\n",
    "    iou_anchors = iou(torch.Tensor(box[2:4]), anchors, is_pred=False)\n",
    "    anchor_indices = iou_anchors.argsort(descending=True, dim=0)\n",
    "    print(anchor_indices)\n",
    "    x, y, h, w, label = box\n",
    "    has_anchor = [False] * 3\n",
    "    for anchor_idx in anchor_indices: \n",
    "        scale_idx = anchor_idx // 3 \n",
    "        print(scale_idx)\n",
    "        anchor_on_scale = anchor_idx % 3 \n",
    "        print(anchor_on_scale)\n",
    "\n",
    "        s = grid[scale_idx]\n",
    "        print(\"s:\", s)\n",
    "        i, j = int(s * y), int(s * x) \n",
    "        print((i,j))\n",
    "        anchor_taken = target[scale_idx][anchor_on_scale, i, j, 0]\n",
    "        print(anchor_taken)\n",
    "\n",
    "        if not anchor_taken and not has_anchor[scale_idx]: \n",
    "  \n",
    "                    # Set the probability to 1 \n",
    "                target[scale_idx][anchor_on_scale, i, j, 0] = 1\n",
    "  \n",
    "                    # Calculating the center of the bounding box relative \n",
    "                    # to the cell \n",
    "                x_cell, y_cell = s * x - j, s * y - i  \n",
    "  \n",
    "                    # Calculating the width and height of the bounding box  \n",
    "                    # relative to the cell \n",
    "                width_cell, height_cell = (w * s, h * s) \n",
    "  \n",
    "                    # Idnetify the box coordinates \n",
    "                box_coordinates = torch.tensor( \n",
    "                                        [x_cell, y_cell, width_cell,  \n",
    "                                         height_cell] \n",
    "                                    ) \n",
    "  \n",
    "                    # Assigning the box coordinates to the target \n",
    "                target[scale_idx][anchor_on_scale, i, j, 1:5] = box_coordinates \n",
    "  \n",
    "                    # Assigning the class label to the target \n",
    "                target[scale_idx][anchor_on_scale, i, j, 5] = int(class_label) \n",
    "  \n",
    "                    # Set the anchor box as assigned for the scale \n",
    "                has_anchor[scale_idx] = True"
   ]
  },
  {
   "cell_type": "code",
   "execution_count": null,
   "metadata": {},
   "outputs": [],
   "source": []
  },
  {
   "cell_type": "code",
   "execution_count": null,
   "metadata": {},
   "outputs": [],
   "source": []
  },
  {
   "cell_type": "code",
   "execution_count": 5,
   "metadata": {},
   "outputs": [
    {
     "name": "stdout",
     "output_type": "stream",
     "text": [
      "yolov3(\n",
      "  (backbone): darknet(\n",
      "    (conv): CNNBlock(\n",
      "      (conv): Conv2d(3, 32, kernel_size=(3, 3), stride=(1, 1), padding=(1, 1))\n",
      "      (norm): BatchNorm2d(32, eps=1e-05, momentum=0.1, affine=True, track_running_stats=True)\n",
      "      (act): LeakyReLU(negative_slope=0.01, inplace=True)\n",
      "    )\n",
      "    (conv1): CNNBlock(\n",
      "      (conv): Conv2d(32, 64, kernel_size=(3, 3), stride=(2, 2), padding=(1, 1))\n",
      "      (norm): BatchNorm2d(64, eps=1e-05, momentum=0.1, affine=True, track_running_stats=True)\n",
      "      (act): LeakyReLU(negative_slope=0.01, inplace=True)\n",
      "    )\n",
      "    (res1): Residual_Block(\n",
      "      (blocks): ModuleList(\n",
      "        (0): Block(\n",
      "          (conv_1): CNNBlock(\n",
      "            (conv): Conv2d(64, 32, kernel_size=(1, 1), stride=(1, 1))\n",
      "            (norm): BatchNorm2d(32, eps=1e-05, momentum=0.1, affine=True, track_running_stats=True)\n",
      "            (act): LeakyReLU(negative_slope=0.01, inplace=True)\n",
      "          )\n",
      "          (conv_2): CNNBlock(\n",
      "            (conv): Conv2d(32, 64, kernel_size=(3, 3), stride=(1, 1), padding=(1, 1))\n",
      "            (norm): BatchNorm2d(64, eps=1e-05, momentum=0.1, affine=True, track_running_stats=True)\n",
      "            (act): LeakyReLU(negative_slope=0.01, inplace=True)\n",
      "          )\n",
      "        )\n",
      "      )\n",
      "    )\n",
      "    (conv2): CNNBlock(\n",
      "      (conv): Conv2d(64, 128, kernel_size=(3, 3), stride=(2, 2), padding=(1, 1))\n",
      "      (norm): BatchNorm2d(128, eps=1e-05, momentum=0.1, affine=True, track_running_stats=True)\n",
      "      (act): LeakyReLU(negative_slope=0.01, inplace=True)\n",
      "    )\n",
      "    (res2): Residual_Block(\n",
      "      (blocks): ModuleList(\n",
      "        (0-1): 2 x Block(\n",
      "          (conv_1): CNNBlock(\n",
      "            (conv): Conv2d(128, 64, kernel_size=(1, 1), stride=(1, 1))\n",
      "            (norm): BatchNorm2d(64, eps=1e-05, momentum=0.1, affine=True, track_running_stats=True)\n",
      "            (act): LeakyReLU(negative_slope=0.01, inplace=True)\n",
      "          )\n",
      "          (conv_2): CNNBlock(\n",
      "            (conv): Conv2d(64, 128, kernel_size=(3, 3), stride=(1, 1), padding=(1, 1))\n",
      "            (norm): BatchNorm2d(128, eps=1e-05, momentum=0.1, affine=True, track_running_stats=True)\n",
      "            (act): LeakyReLU(negative_slope=0.01, inplace=True)\n",
      "          )\n",
      "        )\n",
      "      )\n",
      "    )\n",
      "    (conv3): CNNBlock(\n",
      "      (conv): Conv2d(128, 256, kernel_size=(3, 3), stride=(2, 2), padding=(1, 1))\n",
      "      (norm): BatchNorm2d(256, eps=1e-05, momentum=0.1, affine=True, track_running_stats=True)\n",
      "      (act): LeakyReLU(negative_slope=0.01, inplace=True)\n",
      "    )\n",
      "    (res3): Residual_Block(\n",
      "      (blocks): ModuleList(\n",
      "        (0-7): 8 x Block(\n",
      "          (conv_1): CNNBlock(\n",
      "            (conv): Conv2d(256, 128, kernel_size=(1, 1), stride=(1, 1))\n",
      "            (norm): BatchNorm2d(128, eps=1e-05, momentum=0.1, affine=True, track_running_stats=True)\n",
      "            (act): LeakyReLU(negative_slope=0.01, inplace=True)\n",
      "          )\n",
      "          (conv_2): CNNBlock(\n",
      "            (conv): Conv2d(128, 256, kernel_size=(3, 3), stride=(1, 1), padding=(1, 1))\n",
      "            (norm): BatchNorm2d(256, eps=1e-05, momentum=0.1, affine=True, track_running_stats=True)\n",
      "            (act): LeakyReLU(negative_slope=0.01, inplace=True)\n",
      "          )\n",
      "        )\n",
      "      )\n",
      "    )\n",
      "    (conv4): CNNBlock(\n",
      "      (conv): Conv2d(256, 512, kernel_size=(3, 3), stride=(2, 2), padding=(1, 1))\n",
      "      (norm): BatchNorm2d(512, eps=1e-05, momentum=0.1, affine=True, track_running_stats=True)\n",
      "      (act): LeakyReLU(negative_slope=0.01, inplace=True)\n",
      "    )\n",
      "    (res4): Residual_Block(\n",
      "      (blocks): ModuleList(\n",
      "        (0-7): 8 x Block(\n",
      "          (conv_1): CNNBlock(\n",
      "            (conv): Conv2d(512, 256, kernel_size=(1, 1), stride=(1, 1))\n",
      "            (norm): BatchNorm2d(256, eps=1e-05, momentum=0.1, affine=True, track_running_stats=True)\n",
      "            (act): LeakyReLU(negative_slope=0.01, inplace=True)\n",
      "          )\n",
      "          (conv_2): CNNBlock(\n",
      "            (conv): Conv2d(256, 512, kernel_size=(3, 3), stride=(1, 1), padding=(1, 1))\n",
      "            (norm): BatchNorm2d(512, eps=1e-05, momentum=0.1, affine=True, track_running_stats=True)\n",
      "            (act): LeakyReLU(negative_slope=0.01, inplace=True)\n",
      "          )\n",
      "        )\n",
      "      )\n",
      "    )\n",
      "    (conv5): CNNBlock(\n",
      "      (conv): Conv2d(512, 1024, kernel_size=(3, 3), stride=(2, 2), padding=(1, 1))\n",
      "      (norm): BatchNorm2d(1024, eps=1e-05, momentum=0.1, affine=True, track_running_stats=True)\n",
      "      (act): LeakyReLU(negative_slope=0.01, inplace=True)\n",
      "    )\n",
      "    (res5): Residual_Block(\n",
      "      (blocks): ModuleList(\n",
      "        (0-3): 4 x Block(\n",
      "          (conv_1): CNNBlock(\n",
      "            (conv): Conv2d(1024, 512, kernel_size=(1, 1), stride=(1, 1))\n",
      "            (norm): BatchNorm2d(512, eps=1e-05, momentum=0.1, affine=True, track_running_stats=True)\n",
      "            (act): LeakyReLU(negative_slope=0.01, inplace=True)\n",
      "          )\n",
      "          (conv_2): CNNBlock(\n",
      "            (conv): Conv2d(512, 1024, kernel_size=(3, 3), stride=(1, 1), padding=(1, 1))\n",
      "            (norm): BatchNorm2d(1024, eps=1e-05, momentum=0.1, affine=True, track_running_stats=True)\n",
      "            (act): LeakyReLU(negative_slope=0.01, inplace=True)\n",
      "          )\n",
      "        )\n",
      "      )\n",
      "    )\n",
      "  )\n",
      "  (head1): Head(\n",
      "    (conv_set): Residual_Block(\n",
      "      (blocks): ModuleList(\n",
      "        (0-2): 3 x Block(\n",
      "          (conv_1): CNNBlock(\n",
      "            (conv): Conv2d(1024, 512, kernel_size=(1, 1), stride=(1, 1))\n",
      "            (norm): BatchNorm2d(512, eps=1e-05, momentum=0.1, affine=True, track_running_stats=True)\n",
      "            (act): LeakyReLU(negative_slope=0.01, inplace=True)\n",
      "          )\n",
      "          (conv_2): CNNBlock(\n",
      "            (conv): Conv2d(512, 1024, kernel_size=(3, 3), stride=(1, 1), padding=(1, 1))\n",
      "            (norm): BatchNorm2d(1024, eps=1e-05, momentum=0.1, affine=True, track_running_stats=True)\n",
      "            (act): LeakyReLU(negative_slope=0.01, inplace=True)\n",
      "          )\n",
      "        )\n",
      "      )\n",
      "    )\n",
      "    (conv1): CNNBlock(\n",
      "      (conv): Conv2d(1024, 512, kernel_size=(1, 1), stride=(1, 1))\n",
      "      (norm): BatchNorm2d(512, eps=1e-05, momentum=0.1, affine=True, track_running_stats=True)\n",
      "      (act): LeakyReLU(negative_slope=0.01, inplace=True)\n",
      "    )\n",
      "    (conv2): CNNBlock(\n",
      "      (conv): Conv2d(512, 256, kernel_size=(1, 1), stride=(1, 1))\n",
      "      (norm): BatchNorm2d(256, eps=1e-05, momentum=0.1, affine=True, track_running_stats=True)\n",
      "      (act): LeakyReLU(negative_slope=0.01, inplace=True)\n",
      "    )\n",
      "    (upsampling): Upsample(scale_factor=2.0, mode='nearest')\n",
      "    (prediction): Prediction(\n",
      "      (pred): Sequential(\n",
      "        (0): CNNBlock(\n",
      "          (conv): Conv2d(512, 1024, kernel_size=(3, 3), stride=(1, 1), padding=(1, 1))\n",
      "          (norm): BatchNorm2d(1024, eps=1e-05, momentum=0.1, affine=True, track_running_stats=True)\n",
      "          (act): LeakyReLU(negative_slope=0.01, inplace=True)\n",
      "        )\n",
      "        (1): Conv2d(1024, 255, kernel_size=(1, 1), stride=(1, 1))\n",
      "      )\n",
      "    )\n",
      "  )\n",
      "  (head2): Head(\n",
      "    (conv_set): Residual_Block(\n",
      "      (blocks): ModuleList(\n",
      "        (0-2): 3 x Block(\n",
      "          (conv_1): CNNBlock(\n",
      "            (conv): Conv2d(512, 256, kernel_size=(1, 1), stride=(1, 1))\n",
      "            (norm): BatchNorm2d(256, eps=1e-05, momentum=0.1, affine=True, track_running_stats=True)\n",
      "            (act): LeakyReLU(negative_slope=0.01, inplace=True)\n",
      "          )\n",
      "          (conv_2): CNNBlock(\n",
      "            (conv): Conv2d(256, 512, kernel_size=(3, 3), stride=(1, 1), padding=(1, 1))\n",
      "            (norm): BatchNorm2d(512, eps=1e-05, momentum=0.1, affine=True, track_running_stats=True)\n",
      "            (act): LeakyReLU(negative_slope=0.01, inplace=True)\n",
      "          )\n",
      "        )\n",
      "      )\n",
      "    )\n",
      "    (conv1): CNNBlock(\n",
      "      (conv): Conv2d(512, 256, kernel_size=(1, 1), stride=(1, 1))\n",
      "      (norm): BatchNorm2d(256, eps=1e-05, momentum=0.1, affine=True, track_running_stats=True)\n",
      "      (act): LeakyReLU(negative_slope=0.01, inplace=True)\n",
      "    )\n",
      "    (conv2): CNNBlock(\n",
      "      (conv): Conv2d(256, 128, kernel_size=(1, 1), stride=(1, 1))\n",
      "      (norm): BatchNorm2d(128, eps=1e-05, momentum=0.1, affine=True, track_running_stats=True)\n",
      "      (act): LeakyReLU(negative_slope=0.01, inplace=True)\n",
      "    )\n",
      "    (upsampling): Upsample(scale_factor=2.0, mode='nearest')\n",
      "    (prediction): Prediction(\n",
      "      (pred): Sequential(\n",
      "        (0): CNNBlock(\n",
      "          (conv): Conv2d(256, 512, kernel_size=(3, 3), stride=(1, 1), padding=(1, 1))\n",
      "          (norm): BatchNorm2d(512, eps=1e-05, momentum=0.1, affine=True, track_running_stats=True)\n",
      "          (act): LeakyReLU(negative_slope=0.01, inplace=True)\n",
      "        )\n",
      "        (1): Conv2d(512, 255, kernel_size=(1, 1), stride=(1, 1))\n",
      "      )\n",
      "    )\n",
      "  )\n",
      "  (conv21): CNNBlock(\n",
      "    (conv): Conv2d(768, 256, kernel_size=(1, 1), stride=(1, 1))\n",
      "    (norm): BatchNorm2d(256, eps=1e-05, momentum=0.1, affine=True, track_running_stats=True)\n",
      "    (act): LeakyReLU(negative_slope=0.01, inplace=True)\n",
      "  )\n",
      "  (conv22): CNNBlock(\n",
      "    (conv): Conv2d(256, 512, kernel_size=(3, 3), stride=(1, 1), padding=(1, 1))\n",
      "    (norm): BatchNorm2d(512, eps=1e-05, momentum=0.1, affine=True, track_running_stats=True)\n",
      "    (act): LeakyReLU(negative_slope=0.01, inplace=True)\n",
      "  )\n",
      "  (head3): Head(\n",
      "    (conv_set): Residual_Block(\n",
      "      (blocks): ModuleList(\n",
      "        (0-2): 3 x Block(\n",
      "          (conv_1): CNNBlock(\n",
      "            (conv): Conv2d(256, 128, kernel_size=(1, 1), stride=(1, 1))\n",
      "            (norm): BatchNorm2d(128, eps=1e-05, momentum=0.1, affine=True, track_running_stats=True)\n",
      "            (act): LeakyReLU(negative_slope=0.01, inplace=True)\n",
      "          )\n",
      "          (conv_2): CNNBlock(\n",
      "            (conv): Conv2d(128, 256, kernel_size=(3, 3), stride=(1, 1), padding=(1, 1))\n",
      "            (norm): BatchNorm2d(256, eps=1e-05, momentum=0.1, affine=True, track_running_stats=True)\n",
      "            (act): LeakyReLU(negative_slope=0.01, inplace=True)\n",
      "          )\n",
      "        )\n",
      "      )\n",
      "    )\n",
      "    (conv1): CNNBlock(\n",
      "      (conv): Conv2d(256, 128, kernel_size=(1, 1), stride=(1, 1))\n",
      "      (norm): BatchNorm2d(128, eps=1e-05, momentum=0.1, affine=True, track_running_stats=True)\n",
      "      (act): LeakyReLU(negative_slope=0.01, inplace=True)\n",
      "    )\n",
      "    (conv2): CNNBlock(\n",
      "      (conv): Conv2d(128, 64, kernel_size=(1, 1), stride=(1, 1))\n",
      "      (norm): BatchNorm2d(64, eps=1e-05, momentum=0.1, affine=True, track_running_stats=True)\n",
      "      (act): LeakyReLU(negative_slope=0.01, inplace=True)\n",
      "    )\n",
      "    (upsampling): Upsample(scale_factor=2.0, mode='nearest')\n",
      "    (prediction): Prediction(\n",
      "      (pred): Sequential(\n",
      "        (0): CNNBlock(\n",
      "          (conv): Conv2d(128, 256, kernel_size=(3, 3), stride=(1, 1), padding=(1, 1))\n",
      "          (norm): BatchNorm2d(256, eps=1e-05, momentum=0.1, affine=True, track_running_stats=True)\n",
      "          (act): LeakyReLU(negative_slope=0.01, inplace=True)\n",
      "        )\n",
      "        (1): Conv2d(256, 255, kernel_size=(1, 1), stride=(1, 1))\n",
      "      )\n",
      "    )\n",
      "  )\n",
      "  (conv31): CNNBlock(\n",
      "    (conv): Conv2d(384, 128, kernel_size=(1, 1), stride=(1, 1))\n",
      "    (norm): BatchNorm2d(128, eps=1e-05, momentum=0.1, affine=True, track_running_stats=True)\n",
      "    (act): LeakyReLU(negative_slope=0.01, inplace=True)\n",
      "  )\n",
      "  (conv32): CNNBlock(\n",
      "    (conv): Conv2d(128, 256, kernel_size=(3, 3), stride=(1, 1), padding=(1, 1))\n",
      "    (norm): BatchNorm2d(256, eps=1e-05, momentum=0.1, affine=True, track_running_stats=True)\n",
      "    (act): LeakyReLU(negative_slope=0.01, inplace=True)\n",
      "  )\n",
      ")\n"
     ]
    }
   ],
   "source": [
    "device = torch.device(\"cuda\" if torch.cuda.is_available() else \"cpu\")\n",
    "model = yolov3(n_classes=80).to(device)\n",
    "print(model)"
   ]
  },
  {
   "cell_type": "code",
   "execution_count": null,
   "metadata": {},
   "outputs": [],
   "source": [
    "summary(model, (3,416,416))"
   ]
  },
  {
   "cell_type": "code",
   "execution_count": null,
   "metadata": {},
   "outputs": [],
   "source": []
  }
 ],
 "metadata": {
  "kernelspec": {
   "display_name": "pytorch",
   "language": "python",
   "name": "python3"
  },
  "language_info": {
   "codemirror_mode": {
    "name": "ipython",
    "version": 3
   },
   "file_extension": ".py",
   "mimetype": "text/x-python",
   "name": "python",
   "nbconvert_exporter": "python",
   "pygments_lexer": "ipython3",
   "version": "3.10.14"
  }
 },
 "nbformat": 4,
 "nbformat_minor": 2
}
